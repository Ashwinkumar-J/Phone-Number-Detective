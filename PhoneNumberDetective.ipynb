{
  "nbformat": 4,
  "nbformat_minor": 0,
  "metadata": {
    "colab": {
      "name": "PhoneNumberDetective.ipynb",
      "provenance": [],
      "collapsed_sections": [],
      "authorship_tag": "ABX9TyMNcqNxIXT47C7BTZg1qP5x",
      "include_colab_link": true
    },
    "kernelspec": {
      "name": "python3",
      "display_name": "Python 3"
    },
    "language_info": {
      "name": "python"
    }
  },
  "cells": [
    {
      "cell_type": "markdown",
      "metadata": {
        "id": "view-in-github",
        "colab_type": "text"
      },
      "source": [
        "<a href=\"https://colab.research.google.com/github/Ashwinkumar-J/Phone-Number-Detective/blob/main/PhoneNumberDetective.ipynb\" target=\"_parent\"><img src=\"https://colab.research.google.com/assets/colab-badge.svg\" alt=\"Open In Colab\"/></a>"
      ]
    },
    {
      "cell_type": "code",
      "execution_count": 8,
      "metadata": {
        "colab": {
          "base_uri": "https://localhost:8080/"
        },
        "id": "8tBfompiOeSW",
        "outputId": "92be6f8e-c538-44bd-bba6-c17162333c0f"
      },
      "outputs": [
        {
          "output_type": "stream",
          "name": "stdout",
          "text": [
            "Requirement already satisfied: phonenumbers in /usr/local/lib/python3.7/dist-packages (8.12.42)\n",
            "Please Type your Phone Number with Country Code, Eg:+91123456 +919710376621\n",
            "Country Code: 91 National Number: 9710376621\n",
            "('Asia/Calcutta',)\n",
            "Aircel\n",
            "India\n"
          ]
        }
      ],
      "source": [
        "!pip install phonenumbers\n",
        "import phonenumbers\n",
        "from phonenumbers import timezone,geocoder,carrier\n",
        "phonenumber=input(\"Please Type your Phone Number with Country Code, Eg:+91123456 \")\n",
        "phoneNumber=phonenumbers.parse(phonenumber)\n",
        "timezone=timezone.time_zones_for_number(phoneNumber)\n",
        "carrier=carrier.name_for_number(phoneNumber,\"en\")\n",
        "region=geocoder.description_for_number(phoneNumber,\"en\")\n",
        "print(phoneNumber)\n",
        "print(timezone)\n",
        "print(carrier)\n",
        "print(region)"
      ]
    }
  ]
}